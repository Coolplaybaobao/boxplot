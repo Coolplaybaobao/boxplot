{
 "cells": [
  {
   "cell_type": "markdown",
   "metadata": {},
   "source": [
    "# Project 1"
   ]
  },
  {
   "cell_type": "markdown",
   "metadata": {},
   "source": [
    "## Import needed package"
   ]
  },
  {
   "cell_type": "code",
   "execution_count": 18,
   "metadata": {},
   "outputs": [],
   "source": [
    "%matplotlib inline\n",
    "import matplotlib as mlb\n",
    "import matplotlib.pyplot as plt\n",
    "import pandas as pd\n",
    "import numpy as np\n",
    "import matplotlib.patches as mpathes\n",
    "from matplotlib.pyplot import MultipleLocator\n"
   ]
  },
  {
   "cell_type": "markdown",
   "metadata": {},
   "source": [
    "## Read data"
   ]
  },
  {
   "cell_type": "code",
   "execution_count": 70,
   "metadata": {
    "scrolled": true
   },
   "outputs": [
    {
     "name": "stdout",
     "output_type": "stream",
     "text": [
      "[[354, 12, 54, 146, 28, 28, 28, 28, 6, 63, 788, 20, 15, 40, 40, 2535, 61, 28, 17, 12, 5, 82, 1, 15, 388, 320, 9, 27, 27, 22, 47, 1526, 19, 681, 45, 27, 5, 53, 1, 60, 209, 44, 24, 38, 265, 29, 6, 8, 22, 11, 11, 6, 0, 24, 211, 14, 3, 215, 57, 744, 39, 106, 39, 60, 22, 103, 19, 428, 15, 1187, 5, 21, 6, 6, 35, 352, 29, 42, 2, 423, 882, 69, 60, 4, 20, 12, 130, 19, 35, 630, 87, 741, 3, 4, 79, 7, 56, 1, 47, 268, 4, 393, 44, 1389, 745, 23, 16, 45, 473, 8, 58, 2, 43, 262, 191, 4, 26, 9, 16, 241, 7, 12, 11, 534, 5, 143, 912, 912, 37, 45, 18, 263, 50, 60, 26, 9, 256, 7, 34, 13, 37, 473, 15, 436, 753, 12, 51, 28, 12, 1277, 4, 50, 10, 11, 2, 1, 339, 1, 67, 857, 4, 4, 2, 29, 3, 1624, 4, 1416, 1736, 369, 3, 33, 30, 18, 22, 3277, 414, 310, 182, 8, 11, 376, 806, 1352, 36, 10, 18, 54, 1, 68, 36, 4, 7, 67, 271, 87, 181, 50, 33, 3, 581, 9, 10, 5, 33, 32, 0, 40, 238, 2, 174, 926, 18, 22, 93, 1382, 186, 91, 18, 7, 76, 23, 8, 8, 8, 30, 42, 9, 3, 324, 127, 261, 4, 9, 1, 2, 13, 104, 3, 98, 108, 5, 24, 4, 6, 9, 27, 2, 6, 12, 29, 12, 15, 20, 27, 388, 51, 3, 7, 3, 12, 14, 101, 30, 314, 40, 12, 1, 21, 3, 5, 3, 7, 8, 12, 127, 122, 4, 6, 14, 13, 532, 296, 851, 2, 148, 26, 1, 6, 172, 4731, 3, 2, 1, 2, 57, 74, 18, 79, 258, 21, 93, 7, 111, 1484, 45, 42, 88, 646, 5, 0, 117, 302, 7, 35, 1, 4, 106, 18, 67, 6, 71, 11, 3, 5, 26, 17, 221, 8, 22, 31, 22, 2, 8, 33, 86, 29, 538, 247, 8, 37, 36, 22, 73, 693, 27, 3, 8, 66, 8, 1, 7, 6, 38, 6, 10, 132, 3294, 32, 261, 14, 14, 71, 23, 0, 55, 107, 5, 1, 144, 20, 11, 7, 12, 198, 249, 5, 12, 2, 73, 73, 4, 4, 54, 8, 3, 103, 60, 83, 13, 1, 73, 2, 2159, 6, 336, 544, 58, 36, 359, 19, 96, 86, 544, 26, 178, 69, 7, 65, 243, 3, 883, 1, 30, 27, 4, 49, 16, 3, 1121, 5, 19, 137, 5, 2, 48, 1, 8, 2, 18, 5, 590, 959, 10, 20, 13, 4, 9, 6, 3, 2, 1, 0, 190, 1, 0, 32, 22, 12, 5, 52, 203, 34, 57, 105, 1, 5, 5, 0, 238, 57, 17, 148, 2, 10, 23, 57, 2, 243, 50, 11, 3, 48, 5, 20, 4, 10, 5, 190, 42, 9, 171, 10, 11, 2, 4, 29, 74, 39, 3, 286, 286, 286, 5, 11, 4, 6, 28, 0, 5, 5, 76, 1, 0, 14, 21, 1, 18, 46, 3, 16, 14, 7, 50, 1, 55, 18, 2742, 49, 266, 40, 10, 11, 187, 5, 21, 19, 6, 7, 240, 8, 8, 9, 37, 6, 9, 1, 6, 1634, 316, 15, 25, 7, 65, 10, 330, 11, 59, 0, 6, 2, 65, 19, 1, 1, 47, 9, 16, 237, 31, 24, 7, 46, 1075, 9, 39, 9, 9, 6, 9, 2, 1, 56, 38, 0, 107, 6, 2, 0, 16, 3, 166, 166, 18, 28, 20, 9, 65, 17, 4, 4, 91, 62, 23, 55, 2, 17, 200, 2, 873, 266, 2, 3391, 47, 2, 116, 28, 5, 67, 14, 1, 45, 3, 29, 28, 20, 436, 22, 40, 1, 12, 48, 1, 2, 181, 376, 3, 5, 17, 23, 33, 671, 4, 0, 2, 109, 1832, 5, 9, 0, 14, 58, 3, 122, 42, 835, 6, 7, 76, 90, 29, 216, 31, 135, 15, 2, 4, 134, 20, 13, 9, 3, 643, 21, 130, 25, 2, 11, 12, 10, 16, 587, 260, 58, 51, 23, 116, 1, 41, 11, 5, 309, 6, 9, 21, 464, 7, 5, 308, 39, 4, 8, 22, 2, 2, 4, 22, 12, 1149, 251, 224, 20, 60, 36, 115, 13, 5, 2, 68, 40, 3, 134, 3, 20, 6, 18, 26, 11, 209, 3, 4, 4, 32, 3, 32, 522, 6, 0, 7, 7, 5, 5, 6, 14, 2, 106, 1, 3, 949, 9, 5, 18, 28, 67, 59, 5, 0, 13, 191, 12, 16, 108, 11, 3, 8, 699, 270, 771, 6, 4, 4, 113, 13, 1, 22, 1, 55, 114, 106, 9, 177, 7, 6, 1, 3, 47, 13, 80, 102, 38, 46, 13, 51, 6, 14, 7, 6, 154, 67, 1, 6, 62, 71, 21, 18, 107, 34, 177, 83, 31, 28, 157, 1, 11, 15, 4, 14, 9, 8, 4, 2, 14, 434, 22, 53, 29, 47, 2, 2, 197, 31, 34, 2, 5, 9, 5, 45, 11, 2, 7, 52, 0, 62, 27, 24, 45, 43, 18, 12, 25, 66, 0, 16, 1, 5, 1, 6, 4, 3, 1, 122, 379, 1352, 510, 22, 1, 20, 4, 14, 1, 6, 15, 137, 55, 55, 11, 3, 59, 3, 11, 4, 11, 6, 4, 17, 4, 295, 2, 3, 2, 6, 15, 22, 3, 83, 3, 18, 2, 24, 26, 44, 6, 346, 3, 126, 16, 3662, 2, 3085, 18, 105, 6, 19, 33, 10, 35, 6, 15, 63, 1, 52, 0, 29, 76, 48, 853, 6, 13, 4, 232, 3, 43, 293, 1, 1348, 59, 6, 269, 81, 15159, 24, 496, 23, 9, 6, 24, 20, 167, 55, 12, 72, 401, 17, 11, 53, 5, 47, 6, 52, 38, 61, 37, 265, 43, 19, 3, 10, 56, 375, 0, 435, 10, 96, 13, 3, 11, 61, 1, 2, 8, 6, 84, 3, 5, 21, 49, 30, 301, 8, 69, 0, 63, 22, 4, 180, 2, 96, 54, 305, 772, 164, 47, 1, 1, 8, 14, 16, 2, 2, 4], [9, 2, 11, 7, 5, 5, 5, 5, 1, 5, 17, 7, 3, 12, 12, 87, 8, 6, 6, 1, 2, 7, 2, 4, 70, 19, 4, 12, 6, 1, 5, 50, 1, 18, 4, 4, 3, 8, 2, 4, 3, 7, 5, 3, 30, 5, 2, 4, 6, 2, 2, 1, 1, 7, 37, 37, 2, 2, 4, 32, 5, 12, 5, 4, 3, 59, 3, 29, 2, 337, 4, 5, 3, 1, 3, 10, 17, 8, 1, 49, 15, 19, 12, 2, 1, 1, 9, 3, 13, 12, 19, 27, 2, 2, 25, 3, 15, 2, 9, 13, 1, 3, 5, 23, 63, 2, 2, 2, 7, 1, 10, 1, 3, 35, 99, 4, 3, 8, 1, 3, 2, 3, 3, 25, 4, 11, 24, 24, 4, 8, 1, 14, 5, 6, 7, 8, 12, 3, 3, 4, 4, 27, 4, 23, 59, 3, 1, 10, 7, 18, 2, 1, 3, 2, 3, 1, 9, 2, 5, 15, 1, 1, 1, 4, 3, 65, 1, 71, 132, 14, 2, 2, 4, 3, 8, 19, 17, 13, 8, 3, 3, 38, 36, 8, 4, 3, 1, 16, 1, 25, 1, 3, 2, 2, 33, 2, 9, 4, 3, 2, 27, 16, 5, 1, 10, 5, 2, 1, 19, 1, 36, 64, 6, 6, 6, 7, 12, 20, 3, 3, 14, 3, 3, 3, 3, 3, 15, 1, 1, 10, 9, 38, 1, 2, 35, 2, 2, 19, 3, 9, 4, 3, 4, 2, 3, 2, 8, 2, 1, 4, 2, 4, 1, 3, 2, 70, 14, 2, 1, 2, 1, 2, 2, 4, 21, 5, 5, 2, 2, 6, 6, 2, 2, 1, 5, 9, 39, 3, 3, 1, 5, 12, 70, 23, 1, 19, 6, 1, 1, 12, 66, 2, 2, 3, 1, 10, 7, 2, 10, 10, 12, 7, 4, 2, 14, 6, 2, 2, 85, 3, 1, 37, 6, 2, 12, 2, 1, 17, 5, 18, 1, 2, 8, 2, 1, 2, 3, 12, 2, 2, 3, 3, 2, 1, 1, 8, 7, 60, 57, 3, 8, 6, 4, 11, 118, 3, 1, 1, 18, 12, 2, 3, 2, 4, 1, 2, 12, 176, 5, 27, 2, 4, 7, 2, 11, 4, 7, 1, 2, 6, 5, 1, 4, 2, 3, 9, 6, 3, 1, 15, 15, 4, 1, 7, 2, 1, 9, 10, 14, 2, 2, 15, 1, 94, 5, 85, 22, 10, 1, 19, 5, 27, 20, 22, 4, 5, 2, 3, 8, 5, 3, 36, 2, 8, 5, 2, 7, 6, 1, 13, 2, 4, 2, 3, 1, 8, 3, 5, 2, 4, 2, 4, 113, 5, 3, 3, 2, 3, 3, 1, 1, 2, 2, 17, 1, 2, 8, 4, 3, 3, 7, 8, 2, 4, 11, 1, 2, 1, 1, 9, 10, 2, 27, 1, 1, 6, 7, 1, 56, 4, 2, 1, 2, 2, 5, 2, 4, 1, 4, 5, 19, 37, 3, 2, 1, 1, 5, 8, 4, 1, 18, 18, 18, 3, 1, 2, 1, 1, 1, 1, 3, 15, 1, 1, 1, 24, 1, 3, 1, 2, 3, 1, 1, 14, 2, 3, 1, 322, 21, 4, 1, 9, 1, 10, 2, 4, 1, 3, 1, 14, 2, 2, 2, 2, 3, 1, 1, 4, 70, 17, 2, 3, 3, 14, 5, 33, 6, 8, 1, 3, 1, 10, 6, 1, 1, 8, 7, 3, 17, 10, 5, 1, 2, 20, 2, 4, 1, 2, 2, 5, 2, 1, 8, 5, 1, 5, 2, 2, 1, 3, 4, 18, 18, 5, 6, 3, 2, 1, 4, 2, 4, 2, 3, 8, 2, 2, 1, 279, 1, 27, 29, 1, 26, 4, 1, 2, 4, 2, 1, 2, 2, 4, 1, 1, 4, 3, 38, 2, 1, 3, 1, 6, 1, 6, 5, 2, 1, 2, 8, 2, 2, 11, 5, 1, 1, 4, 19, 2, 4, 1, 3, 3, 2, 8, 3, 104, 1, 1, 1, 16, 4, 6, 6, 2, 7, 2, 1, 3, 2, 1, 2, 1, 2, 5, 13, 13, 2, 1, 1, 1, 33, 13, 7, 4, 12, 6, 5, 1, 1, 7, 1, 26, 3, 1, 2, 16, 2, 1, 22, 3, 2, 1, 1, 2, 1, 1, 2, 1, 25, 39, 9, 1, 8, 13, 4, 2, 1, 2, 1, 2, 3, 4, 1, 3, 1, 2, 2, 1, 2, 1, 2, 2, 4, 1, 8, 84, 4, 1, 2, 4, 1, 2, 2, 2, 2, 49, 1, 1, 1, 1, 1, 5, 6, 3, 9, 2, 1, 1, 4, 2, 1, 1, 6, 1, 3, 22, 5, 6, 2, 3, 1, 8, 3, 2, 8, 1, 3, 1, 1, 3, 7, 4, 7, 1, 1, 4, 2, 9, 4, 1, 2, 25, 4, 2, 1, 4, 2, 2, 7, 2, 2, 4, 10, 1, 2, 2, 13, 7, 5, 4, 4, 7, 1, 4, 3, 1, 1, 2, 1, 1, 1, 1, 29, 4, 8, 1, 1, 1, 1, 25, 2, 2, 1, 1, 2, 2, 5, 3, 1, 3, 4, 1, 4, 1, 2, 4, 2, 7, 6, 8, 3, 1, 1, 1, 1, 1, 1, 1, 1, 1, 3, 74, 55, 1, 1, 1, 1, 1, 2, 1, 2, 7, 13, 5, 5, 2, 3, 1, 2, 2, 2, 1, 2, 2, 1, 2, 5, 2, 1, 1, 2, 1, 2, 1, 10, 2, 5, 1, 2, 7, 2, 1, 16, 2, 15, 4, 294, 1, 207, 1, 23, 2, 3, 2, 1, 4, 2, 1, 5, 1, 1, 1, 4, 2, 3, 14, 1, 1, 1, 23, 1, 2, 16, 1, 39, 2, 1, 19, 4, 71, 1, 33, 1, 2, 2, 1, 1, 7, 8, 2, 7, 16, 12, 2, 17, 1, 1, 1, 1, 8, 2, 2, 19, 5, 2, 5, 2, 1, 20, 2, 6, 1, 3, 1, 1, 4, 2, 1, 1, 1, 1, 21, 1, 1, 1, 3, 1, 1, 1, 1, 1, 1, 3, 2, 1, 1, 12, 3, 28, 1, 1, 4, 1, 1, 1, 1, 1, 1, 1, 2], [796, 73, 572, 86, 81, 81, 81, 81, 135, 82, 3270, 126, 50, 1706, 1706, 4311, 138, 716, 66, 28, 208, 1099, 100, 104, 8589, 879, 42, 244, 76, 71, 274, 2716, 383, 729, 143, 55, 472, 279, 46, 73, 399, 167, 532, 16, 2157, 117, 392, 416, 944, 205, 338, 11, 72, 420, 2018, 188, 52, 2406, 76, 1308, 992, 993, 762, 721, 186, 2669, 261, 1849, 105, 41403, 46, 528, 318, 49, 408, 935, 380, 492, 62, 3556, 1252, 3591, 336, 23, 161, 157, 1645, 41, 103, 267, 597, 735, 28, 16, 691, 776, 374, 32, 640, 163, 74, 155, 29, 2656, 1125, 59, 56, 95, 415, 9, 235, 7, 456, 779, 8094, 108, 1304, 226, 42, 277, 111, 33, 124, 3677, 95, 158, 2879, 2879, 35, 554, 25, 414, 773, 428, 240, 170, 324, 57, 62, 192, 116, 6736, 176, 621, 3338, 135, 160, 106, 266, 1120, 21, 404, 2002, 156, 74, 160, 182, 115, 283, 1401, 31, 296, 10, 352, 32, 1038, 16, 2288, 1874, 1008, 138, 46, 209, 88, 106, 1041, 194, 440, 453, 469, 84, 5628, 1211, 1639, 147, 584, 83, 497, 35, 642, 150, 24, 217, 231, 451, 102, 83, 569, 262, 32, 1713, 234, 167, 45, 752, 98, 10, 113, 568, 64, 1031, 1415, 195, 401, 2291, 359, 379, 893, 75, 889, 479, 250, 469, 469, 469, 63, 293, 104, 19, 1367, 479, 2682, 14, 31, 1726, 144, 596, 518, 155, 384, 98, 101, 32, 14, 74, 185, 92, 137, 45, 620, 39, 70, 235, 67, 43, 8589, 434, 55, 53, 572, 6, 50, 339, 119, 2396, 26, 189, 21, 154, 42, 65, 33, 48, 15, 223, 2003, 940, 23, 77, 9, 364, 80, 5569, 434, 6, 1109, 42, 22, 118, 399, 11832, 62, 15, 12, 11, 863, 245, 74, 1911, 269, 932, 46, 86, 45, 2022, 485, 18, 68, 1894, 969, 3, 528, 1485, 30, 341, 11, 58, 317, 55, 713, 17, 290, 224, 266, 67, 390, 134, 308, 70, 582, 44, 294, 13, 350, 16, 62, 300, 5897, 808, 81, 492, 286, 63, 561, 2519, 50, 35, 16, 184, 906, 13, 578, 220, 649, 169, 35, 6030, 7287, 154, 872, 93, 49, 236, 160, 726, 142, 106, 68, 5, 2626, 95, 202, 33, 54, 113, 977, 193, 325, 4, 2378, 2378, 316, 167, 1292, 32, 14, 368, 238, 1093, 644, 10, 2378, 90, 2831, 104, 1193, 464, 260, 210, 1790, 426, 5371, 263, 464, 293, 44, 465, 32, 76, 101, 11, 1566, 8, 189, 217, 14, 331, 92, 5, 2463, 99, 157, 485, 103, 39, 92, 33, 324, 59, 169, 10, 44, 8637, 84, 66, 160, 35, 13, 72, 16, 10, 10, 26, 504, 18, 383, 165, 73, 210, 18, 160, 946, 603, 148, 371, 15, 40, 41, 28, 941, 1864, 36, 1252, 73, 80, 567, 91, 55, 628, 724, 78, 101, 47, 78, 1830, 12, 935, 17, 551, 124, 197, 1361, 36, 76, 10, 18, 355, 190, 67, 60, 221, 221, 221, 119, 594, 2031, 23, 34, 5, 3, 5, 151, 3, 62, 29, 472, 10, 92, 265, 29, 52, 72, 6, 409, 32, 76, 14, 6957, 437, 28, 33, 715, 30, 263, 14, 60, 35, 42, 66, 3247, 43, 13, 104, 467, 94, 69, 1, 55, 3944, 1433, 28, 123, 48, 481, 36, 579, 46, 102, 12, 61, 30, 1619, 268, 47, 21, 268, 267, 702, 1735, 196, 132, 113, 32, 726, 35, 169, 44, 82, 283, 74, 96, 31, 1041, 182, 32, 529, 125, 279, 19, 92, 622, 1141, 1141, 143, 150, 14, 21, 231, 165, 192, 179, 117, 124, 238, 105, 15, 77, 10852, 102, 925, 1110, 6, 467, 242, 6, 125, 305, 26, 18, 51, 46, 120, 9, 14, 196, 117, 1322, 226, 154, 266, 50, 99, 16, 552, 296, 175, 26, 55, 75, 190, 84, 523, 93, 271, 14, 191, 1195, 130, 30, 14, 214, 58, 9, 153, 1291, 4060, 49, 10, 3, 393, 99, 163, 212, 315, 271, 21, 48, 260, 295, 28, 643, 18, 132, 109, 738, 406, 15, 54, 3, 212, 1247, 64, 353, 69, 227, 151, 408, 7, 1136, 1549, 20, 798, 37, 2, 58, 306, 114, 14, 401, 145, 20, 189, 318, 124, 5, 99, 176, 131, 3012, 1325, 138, 127, 599, 1335, 167, 26, 21, 69, 93, 112, 39, 83, 321, 28, 40, 51, 79, 31, 123, 26, 82, 163, 32, 8, 407, 2698, 389, 28, 38, 36, 65, 30, 28, 14, 14, 1118, 101, 88, 242, 72, 30, 39, 71, 120, 132, 23, 16, 99, 75, 41, 10, 1263, 151, 4, 110, 1360, 79, 87, 6, 19, 109, 470, 429, 18, 132, 7, 81, 196, 196, 65, 1459, 527, 112, 27, 85, 132, 40, 648, 207, 3, 225, 808, 782, 277, 25, 98, 24, 33, 296, 1836, 38, 35, 416, 929, 75, 75, 233, 1459, 103, 23, 39, 228, 21, 404, 74, 11, 13, 23, 38, 15, 48, 32, 944, 90, 96, 26, 60, 93, 4, 1072, 92, 242, 8, 482, 1523, 74, 503, 75, 3, 82, 264, 33, 97, 91, 62, 120, 548, 169, 164, 102, 141, 46, 100, 1, 3, 187, 14, 26, 25, 15, 103, 749, 1380, 49, 88, 332, 16, 61, 80, 11, 14, 271, 440, 551, 551, 43, 96, 76, 13, 57, 182, 110, 319, 38, 11, 12, 47, 24, 14, 15, 11, 22, 119, 5, 157, 6, 76, 10, 58, 102, 364, 10, 1521, 49, 6745, 34, 25821, 206, 22653, 23, 1226, 25, 67, 32, 50, 175, 40, 26, 1428, 16, 143, 6, 567, 87, 687, 168, 11, 554, 8, 3772, 89, 572, 411, 21, 9034, 80, 25, 1063, 1427, 3362, 94, 2598, 8, 21, 7, 21, 113, 884, 272, 39, 319, 1262, 6108, 24, 957, 99, 142, 37, 78, 2201, 55, 45, 1312, 171, 73, 300, 46, 233, 946, 68, 150, 33, 104, 10, 60, 30, 129, 12, 141, 31, 80, 586, 443, 37, 10, 63, 45, 4, 6, 10, 13, 7, 159, 13, 241, 37, 201, 74, 1168, 68, 100, 71, 17, 510, 123, 9, 2, 23, 118, 186]]\n"
     ]
    }
   ],
   "source": [
    "# data\n",
    "data = pd.read_csv('/Users/hurryzhao/Downloads/android_test_inspector-master/results_merged.csv')\n",
    "data = [data.stars.dropna().tolist(),data.contributors.dropna().tolist(),data.commits.dropna().tolist()]\n",
    "print(data)"
   ]
  },
  {
   "cell_type": "markdown",
   "metadata": {},
   "source": [
    "## Generate boxplot"
   ]
  },
  {
   "cell_type": "code",
   "execution_count": 111,
   "metadata": {},
   "outputs": [],
   "source": [
    "def boxplot(ax, \n",
    "            Data, \n",
    "            outlier=True,\n",
    "            box_facecolor='white', \n",
    "            box_edgecolor='k', \n",
    "            outlier_facecolor='r', \n",
    "            outlier_edgecolor='r',\n",
    "            whisker_edgecolor='k',\n",
    "            median_edgecolor='k'):\n",
    "    h=max(max(p) for p in Data) + 0.1*abs(max(max(p) for p in Data))\n",
    "    l=min(min(p) for p in Data) + 0.1*abs(min(min(p) for p in Data))\n",
    "    count = len(Data)\n",
    "    center = [round(((h-l)/(count+1))*(x+1),8)/20 for x in range(count)]\n",
    "    print(center)\n",
    "    ax.axis('equal')\n",
    "    i=0\n",
    "    for data in Data:\n",
    "        data = sorted(data)\n",
    "        # percentile\n",
    "        p = [0.25, 0.3, 0.35, 0.4, 0.45, 0.5, 0.55, 0.6, 0.65, 0.7, 0.75]\n",
    "        pen = [round((len(data)+1)*x,2) for x in p]\n",
    "        d = [np.quantile(data,j) for j in p]\n",
    "        \n",
    "        # outlier\n",
    "        IQR = d[-1]-d[0]\n",
    "        upper = d[-1] + 1.5*IQR\n",
    "        lower = d[0] - 1.5*IQR\n",
    "        Upper = min(upper,data[-1])\n",
    "        Lower = max(lower,data[0])\n",
    "        outliers = []\n",
    "        for p in data:\n",
    "            if p > upper or p < lower:\n",
    "                outliers.append(p)\n",
    "        if outlier==True:\n",
    "            for p in outliers:\n",
    "                rect = mpathes.Ellipse((center[i],p),0.04*center[-1],0.04*center[-1],ec=outlier_edgecolor,fc=outlier_facecolor)  \n",
    "                ax.add_patch(rect)\n",
    "\n",
    "        # whisker\n",
    "        ax.hlines(Upper,center[i]-0.1*center[0],center[i]+0.1*center[0],whisker_edgecolor)\n",
    "        ax.hlines(Lower,center[i]-0.1*center[0],center[i]+0.1*center[0],whisker_edgecolor)\n",
    "        ax.vlines(center[i],Lower,d[0],whisker_edgecolor)\n",
    "        ax.vlines(center[i],d[-1],Upper,whisker_edgecolor)\n",
    "\n",
    "        # median\n",
    "        ax.hlines(d[5],center[i]-0.2*center[0],center[i]+0.2*center[0],median_edgecolor,lw=3)\n",
    "        \n",
    "        # box\n",
    "        rect = mpathes.Rectangle((center[i]-0.2*center[0],d[0]),0.4*center[0],d[-1]-d[0],ec=box_edgecolor,fc=box_facecolor)\n",
    "        ax.add_patch(rect)\n",
    "        i+=1\n",
    "    plt.show()\n"
   ]
  },
  {
   "cell_type": "code",
   "execution_count": 112,
   "metadata": {},
   "outputs": [
    {
     "name": "stdout",
     "output_type": "stream",
     "text": [
      "[569.29125, 1138.5825, 1707.87375]\n"
     ]
    },
    {
     "data": {
      "image/png": "[encoded data removed]",
      "text/plain": [
       "<Figure size 432x288 with 1 Axes>"
      ]
     },
     "metadata": {
      "needs_background": "light"
     },
     "output_type": "display_data"
    }
   ],
   "source": [
    "# boxplot\n",
    "fig,ax = plt.subplots()\n",
    "boxplot(ax,data,outlier_facecolor='w', outlier_edgecolor='k',outlier=False)"
   ]
  },
  {
   "cell_type": "markdown",
   "metadata": {},
   "source": [
    "## Generate info_boxplot"
   ]
  },
  {
   "cell_type": "code",
   "execution_count": 121,
   "metadata": {},
   "outputs": [],
   "source": [
    "def info_boxplot(ax, \n",
    "                 Data, \n",
    "                 multiplebox=True, \n",
    "                 outlier=True,\n",
    "                 box_facecolor='white', \n",
    "                 box_edgecolor='k', \n",
    "                 outlier_facecolor='r', \n",
    "                 outlier_edgecolor='r',\n",
    "                 whisker_edgecolor='k',\n",
    "                 median_edgecolor='k'):\n",
    "    h=max(max(p) for p in Data) + 0.1*abs(max(max(p) for p in Data))\n",
    "    l=min(min(p) for p in Data) + 0.1*abs(min(min(p) for p in Data))\n",
    "    count = len(Data)\n",
    "    center = [round(((h-l)/(count+1))*(x+1),8)/20 for x in range(count)]\n",
    "    print(center)\n",
    "    ax.axis('equal')\n",
    "    i=0\n",
    "    for data in Data:\n",
    "        # percentile\n",
    "        p = [0.25, 0.3, 0.35, 0.4, 0.45, 0.5, 0.55, 0.6, 0.65, 0.7, 0.75]\n",
    "        pen = [round((len(data)+1)*x,8) for x in p]\n",
    "        data = sorted(data)\n",
    "        d = [np.quantile(data,i) for i in p]\n",
    "        \n",
    "        # outlier\n",
    "        IQR = d[-1]-d[0]\n",
    "        upper = d[-1] + 1.5*IQR\n",
    "        lower = d[0] - 1.5*IQR\n",
    "        Upper = min(upper,data[-1])\n",
    "        Lower = max(lower,data[0])\n",
    "        if outlier==True:\n",
    "            for p in outliers:\n",
    "                rect = mpathes.Ellipse((center[i],p),0.04*center[-1],0.04*center[-1],ec=outlier_edgecolor,fc=outlier_facecolor)  \n",
    "                ax.add_patch(rect)\n",
    "            \n",
    "        # whisker\n",
    "        ax.hlines(Upper,center[i]-0.1*center[0],center[i]+0.1*center[0],whisker_edgecolor)\n",
    "        ax.hlines(Lower,center[i]-0.1*center[0],center[i]+0.1*center[0],whisker_edgecolor)\n",
    "        ax.vlines(center[i],Lower,d[0],whisker_edgecolor)\n",
    "        ax.vlines(center[i],d[-1],Upper,whisker_edgecolor)\n",
    "\n",
    "        \n",
    "        # median\n",
    "        ax.hlines(d[5],center[i]-0.2*center[0],center[i]+0.2*center[0],median_edgecolor,lw=3)\n",
    "        \n",
    "        # multiplebox\n",
    "        if multiplebox==True:\n",
    "            for x in d:\n",
    "                ax.hlines(d,center[i]-0.2*center[0],center[i]+0.2*center[0],box_edgecolor,lw=1)\n",
    "                \n",
    "        # box\n",
    "        rect = mpathes.Rectangle((center[i]-0.2*center[0],d[0]),0.4*center[0],d[-1]-d[0],ec=box_edgecolor,fc=box_facecolor)\n",
    "        ax.add_patch(rect)\n",
    "        i+=1\n",
    "    plt.show()"
   ]
  },
  {
   "cell_type": "code",
   "execution_count": 122,
   "metadata": {
    "scrolled": true
   },
   "outputs": [
    {
     "name": "stdout",
     "output_type": "stream",
     "text": [
      "[569.29125, 1138.5825, 1707.87375]\n"
     ]
    },
    {
     "data": {
      "image/png": "[encoded data removed]",
      "text/plain": [
       "<Figure size 432x288 with 1 Axes>"
      ]
     },
     "metadata": {
      "needs_background": "light"
     },
     "output_type": "display_data"
    },
    {
     "data": {
      "text/plain": [
       "<Figure size 1152x1152 with 0 Axes>"
      ]
     },
     "metadata": {},
     "output_type": "display_data"
    }
   ],
   "source": [
    "# info_boxplot\n",
    "fig,ax = plt.subplots()\n",
    "plt.figure(figsize=(16,16))\n",
    "info_boxplot(ax,data,outlier=False,multiplebox=True)"
   ]
  },
  {
   "cell_type": "markdown",
   "metadata": {},
   "source": [
    "## Generate hist_boxplot"
   ]
  },
  {
   "cell_type": "code",
   "execution_count": 115,
   "metadata": {},
   "outputs": [],
   "source": [
    "def hist_boxplot(ax, \n",
    "                 Data, \n",
    "                 n_bins=10,\n",
    "                 outlier=True,\n",
    "                 box_facecolor='white', \n",
    "                 box_edgecolor='k', \n",
    "                 outlier_facecolor='r', \n",
    "                 outlier_edgecolor='r',\n",
    "                 whisker_edgecolor='k',\n",
    "                 median_edgecolor='k',\n",
    "                 bin_facecolor='#CECECE',\n",
    "                 bin_edgecolor='k'):\n",
    "    i=0\n",
    "    h=max(max(p) for p in Data) + 0.1*abs(max(max(p) for p in Data))\n",
    "    l=min(min(p) for p in Data) + 0.1*abs(min(min(p) for p in Data))\n",
    "    count = len(Data)\n",
    "    center = [round(((h-l)/(count+1))*(x+1),8) for x in range(count)]\n",
    "    print(center)\n",
    "    ax.axis('equal')\n",
    "    for data in Data:\n",
    "        # percentile\n",
    "        p = [0.25, 0.3, 0.35, 0.4, 0.45, 0.5, 0.55, 0.6, 0.65, 0.7, 0.75]\n",
    "        pen = [round((len(data)+1)*x,8) for x in p]\n",
    "        data = sorted(data)\n",
    "        d = [np.quantile(data,i) for i in p]\n",
    "        \n",
    "        # outlier\n",
    "        IQR = d[-1]-d[0]\n",
    "        upper = d[-1] + 1.5*IQR\n",
    "        lower = d[0] - 1.5*IQR\n",
    "        Upper = min(upper,data[-1])\n",
    "        Lower = max(lower,data[0])\n",
    "        outliers = []\n",
    "        for p in data:\n",
    "            if p > upper or p < lower:\n",
    "                outliers.append(p)\n",
    "        if outlier==True:\n",
    "            for p in outliers:\n",
    "                rect = mpathes.Ellipse((center[i],p),0.04*center[-1],0.04*center[-1],ec=outlier_edgecolor,fc=outlier_facecolor)  \n",
    "                ax.add_patch(rect)        \n",
    "        # hist\n",
    "        w = (data[-1]-data[0])/n_bins\n",
    "        bins = [w*i for i in range(n_bins+1)]\n",
    "        Bin = []\n",
    "        for k in range(n_bins):\n",
    "            s=0\n",
    "            for j in data:\n",
    "                if j >= bins[k] and j < bins[k+1]:\n",
    "                    s+=1\n",
    "            Bin.append(s)\n",
    "        for c in range(len(Bin)):\n",
    "            rect = mpathes.Rectangle((center[i],bins[c]+Lower),Bin[c]/100,w,ec=bin_edgecolor,fc=bin_facecolor)\n",
    "            ax.add_patch(rect)\n",
    "            \n",
    "        # whisker\n",
    "        ax.hlines(Upper,center[i]-0.1*center[0],center[i],whisker_edgecolor)\n",
    "        ax.hlines(Lower,center[i]-0.1*center[0],center[i],whisker_edgecolor)\n",
    "        ax.vlines(center[i],Lower,d[0],whisker_edgecolor)\n",
    "        ax.vlines(center[i],d[-1],Upper,whisker_edgecolor)\n",
    "        \n",
    "        # median\n",
    "        ax.hlines(d[5],center[i]-0.2*center[0],center[i],median_edgecolor,lw=3)\n",
    "        \n",
    "        # box\n",
    "        rect = mpathes.Rectangle((center[i]-0.2*center[0],d[0]),0.2*center[0],d[-1]-d[0],ec=box_edgecolor,fc=box_facecolor)\n",
    "        ax.add_patch(rect)\n",
    "        i+=1\n",
    "    plt.show()"
   ]
  },
  {
   "cell_type": "code",
   "execution_count": 116,
   "metadata": {
    "scrolled": true
   },
   "outputs": [
    {
     "name": "stdout",
     "output_type": "stream",
     "text": [
      "[11385.825, 22771.65, 34157.475]\n"
     ]
    },
    {
     "data": {
      "image/png": "[encoded data removed]",
      "text/plain": [
       "<Figure size 432x288 with 1 Axes>"
      ]
     },
     "metadata": {
      "needs_background": "light"
     },
     "output_type": "display_data"
    }
   ],
   "source": [
    "# hist_boxplot\n",
    "fig,ax = plt.subplots()\n",
    "hist_boxplot(ax,data)"
   ]
  },
  {
   "cell_type": "markdown",
   "metadata": {},
   "source": [
    "## Generate creative_boxplot"
   ]
  },
  {
   "cell_type": "code",
   "execution_count": 117,
   "metadata": {},
   "outputs": [],
   "source": [
    "import random\n",
    "def creative_boxplot(ax, \n",
    "            Data, \n",
    "            outlier=True,\n",
    "            box_facecolor='white', \n",
    "            box_edgecolor='k', \n",
    "            outlier_facecolor='b', \n",
    "            outlier_edgecolor=None,\n",
    "            whisker_edgecolor='k',\n",
    "            median_edgecolor='k'):\n",
    "    h=max(max(p) for p in Data) + 0.1*abs(max(max(p) for p in Data))\n",
    "    l=min(min(p) for p in Data) + 0.1*abs(min(min(p) for p in Data))\n",
    "    count = len(Data)\n",
    "    center = [round(((h-l)/(count+1))*(x+1),8)/20 for x in range(count)]\n",
    "    print(center)\n",
    "    ax.axis('equal')\n",
    "    i=0\n",
    "    point=[]\n",
    "    for data in Data:\n",
    "        data = sorted(data)\n",
    "        # percentile\n",
    "        p = [0.25, 0.3, 0.35, 0.4, 0.45, 0.5, 0.55, 0.6, 0.65, 0.7, 0.75]\n",
    "        pen = [round((len(data)+1)*x,2) for x in p]\n",
    "        d = [np.quantile(data,j) for j in p]\n",
    "        \n",
    "        # outlier\n",
    "        IQR = d[-1]-d[0]\n",
    "        upper = d[-1] + 1.5*IQR\n",
    "        lower = d[0] - 1.5*IQR\n",
    "        Upper = min(upper,data[-1])\n",
    "        Lower = max(lower,data[0])\n",
    "        outliers = []\n",
    "        for p in data:\n",
    "            if p > upper or p < lower:\n",
    "                outliers.append(p)\n",
    "        if outlier==True:\n",
    "            for p in outliers:\n",
    "                rect = mpathes.Ellipse((center[i],p),0.04*center[-1],0.04*center[-1],ec=outlier_edgecolor,fc=outlier_facecolor) \n",
    "                rect.set_alpha(0.7)\n",
    "                ax.add_patch(rect)\n",
    "        # box\n",
    "        rect = mpathes.Rectangle((center[i]-0.2*center[0],d[0]),0.4*center[0],d[-1]-d[0],ec=box_edgecolor,fc=box_facecolor)\n",
    "        ax.add_patch(rect)\n",
    "        \n",
    "        # points\n",
    "        for p in data:\n",
    "            if p not in outliers:\n",
    "                x = center[i]-0.05*center[0]+random.uniform(0,0.1*center[0])\n",
    "                rect = mpathes.Ellipse((x,p),0.01*center[0],0.01*center[0],ec=outlier_edgecolor,fc=outlier_facecolor) \n",
    "                rect.set_alpha(0.3)\n",
    "                ax.add_patch(rect)\n",
    "\n",
    "        # median\n",
    "        ax.hlines(d[5],center[i]-0.2*center[0],center[i]+0.2*center[0],median_edgecolor,lw=3)\n",
    "        # line\n",
    "        point.append([center[i],d[5]])\n",
    "        i+=1\n",
    "        \n",
    "    for i in range(len(point)-1):\n",
    "        x = point[i][0]\n",
    "        y = point[i][1]\n",
    "        arrow = mpathes.FancyArrowPatch((point[i][0], point[i][1]), (point[i+1][0], point[i+1][1]),arrowstyle='-',lw=0.005*center[0],color='g')\n",
    "        ax.add_patch(arrow)\n",
    "    plt.show()"
   ]
  },
  {
   "cell_type": "code",
   "execution_count": 118,
   "metadata": {},
   "outputs": [
    {
     "name": "stdout",
     "output_type": "stream",
     "text": [
      "[569.29125, 1138.5825, 1707.87375]\n"
     ]
    },
    {
     "data": {
      "image/png": "[encoded data removed]",
      "text/plain": [
       "<Figure size 432x288 with 1 Axes>"
      ]
     },
     "metadata": {
      "needs_background": "light"
     },
     "output_type": "display_data"
    }
   ],
   "source": [
    "fig,ax = plt.subplots()\n",
    "co_boxplot(ax,data,outlier=False)"
   ]
  },
  {
   "cell_type": "code",
   "execution_count": 95,
   "metadata": {},
   "outputs": [],
   "source": [
    "import matplotlib.axes as ma\n",
    "def line_boxplot(ax, \n",
    "            Data, \n",
    "            outlier=True,\n",
    "            box_facecolor='white', \n",
    "            box_edgecolor='k', \n",
    "            outlier_facecolor='r', \n",
    "            outlier_edgecolor='r',\n",
    "            whisker_edgecolor='k',\n",
    "            median_edgecolor='k'):\n",
    "    h=max(max(p) for p in Data) + 0.1*abs(max(max(p) for p in Data))\n",
    "    l=min(min(p) for p in Data) + 0.1*abs(min(min(p) for p in Data))\n",
    "    count = len(Data)\n",
    "    center = [round(((h-l)/(count+1))*(x+1),8)/20 for x in range(count)]\n",
    "    print(center)\n",
    "    ax.axis('equal')\n",
    "    i=0\n",
    "    point=[]\n",
    "    for data in Data:\n",
    "        data = sorted(data)\n",
    "        # percentile\n",
    "        p = [0.25, 0.3, 0.35, 0.4, 0.45, 0.5, 0.55, 0.6, 0.65, 0.7, 0.75]\n",
    "        pen = [round((len(data)+1)*x,2) for x in p]\n",
    "        d = [np.quantile(data,j) for j in p]\n",
    "        \n",
    "        # outlier\n",
    "        IQR = d[-1]-d[0]\n",
    "        upper = d[-1] + 1.5*IQR\n",
    "        lower = d[0] - 1.5*IQR\n",
    "        Upper = Min(upper,data[-1])\n",
    "        Lower = Max(lower,data[0])\n",
    "        outliers = []\n",
    "        for p in data:\n",
    "            if p > upper or p < lower:\n",
    "                outliers.append(p)\n",
    "        if outlier==True:\n",
    "            for p in outliers:\n",
    "                rect = mpathes.Ellipse((center[i],p),0.04*center[-1],0.04*center[-1],ec=outlier_edgecolor,fc=outlier_facecolor)  \n",
    "                ax.add_patch(rect)\n",
    "\n",
    "        # whisker\n",
    "        ax.hlines(Upper,center[i]-0.1*center[0],center[i]+0.1*center[0],whisker_edgecolor)\n",
    "        ax.hlines(Lower,center[i]-0.1*center[0],center[i]+0.1*center[0],whisker_edgecolor)\n",
    "        ax.vlines(center[i],Lower,d[0],whisker_edgecolor)\n",
    "        ax.vlines(center[i],d[-1],Upper,whisker_edgecolor)\n",
    "\n",
    "        # median\n",
    "        ax.hlines(d[5],center[i]-0.2*center[0],center[i]+0.2*center[0],median_edgecolor,lw=3)\n",
    "        \n",
    "        # box\n",
    "        rect = mpathes.Rectangle((center[i]-0.2*center[0],d[0]),0.4*center[0],d[-1]-d[0],ec=box_edgecolor,fc=box_facecolor)\n",
    "        ax.add_patch(rect)\n",
    "        \n",
    "        # line\n",
    "        point.append([center[i],d[5]])\n",
    "        i+=1\n",
    "\n",
    "    for i in range(len(point)-1):\n",
    "        x = point[i][0]\n",
    "        y = point[i][1]\n",
    "        arrow = mpathes.FancyArrowPatch((point[i][0], point[i][1]), (point[i+1][0], point[i+1][1]),arrowstyle='-',lw=1)\n",
    "        ax.add_patch(arrow)\n",
    "    plt.show()"
   ]
  },
  {
   "cell_type": "code",
   "execution_count": 96,
   "metadata": {},
   "outputs": [
    {
     "name": "stdout",
     "output_type": "stream",
     "text": [
      "[569.29125, 1138.5825, 1707.87375]\n"
     ]
    },
    {
     "data": {
      "image/png": "[encoded data removed]",
      "text/plain": [
       "<Figure size 432x288 with 1 Axes>"
      ]
     },
     "metadata": {
      "needs_background": "light"
     },
     "output_type": "display_data"
    },
    {
     "data": {
      "text/plain": [
       "<Figure size 1152x1152 with 0 Axes>"
      ]
     },
     "metadata": {},
     "output_type": "display_data"
    }
   ],
   "source": [
    "fig,ax = plt.subplots()\n",
    "plt.figure(figsize=(16,16))\n",
    "line_boxplot(ax,data,outlier=False)"
   ]
  },
  {
   "cell_type": "code",
   "execution_count": null,
   "metadata": {},
   "outputs": [],
   "source": []
  }
 ],
 "metadata": {
  "kernelspec": {
   "display_name": "Python 3",
   "language": "python",
   "name": "python3"
  },
  "language_info": {
   "codemirror_mode": {
    "name": "ipython",
    "version": 3
   },
   "file_extension": ".py",
   "mimetype": "text/x-python",
   "name": "python",
   "nbconvert_exporter": "python",
   "pygments_lexer": "ipython3",
   "version": "3.7.3"
  }
 },
 "nbformat": 4,
 "nbformat_minor": 2
}
